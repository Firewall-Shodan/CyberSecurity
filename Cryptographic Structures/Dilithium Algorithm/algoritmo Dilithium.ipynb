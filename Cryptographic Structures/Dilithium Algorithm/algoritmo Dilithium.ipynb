{
 "cells": [
  {
   "cell_type": "code",
   "execution_count": 25,
   "metadata": {},
   "outputs": [
    {
     "name": "stdout",
     "output_type": "stream",
     "text": [
      "False : A assinatura foi verificada com Sucesso!\n"
     ]
    }
   ],
   "source": [
    "from sage.crypto.util import random_prime\n",
    "from math import ceil\n",
    "from hashlib import sha256\n",
    "\n",
    "def generate_key():\n",
    "    # Parâmetros de segurança\n",
    "    n = 256  # Tamanho do vetor de chaves\n",
    "    q = random_prime(2^n)  # Módulo para operações de chave\n",
    "    d = 8  # Parâmetro de desvio padrão\n",
    "\n",
    "    # Geração de chave privada aleatória\n",
    "    private_key = [randint(-(q-1)//2, (q-1)//2) for _ in range(n)]\n",
    "\n",
    "    # Geração de chave pública\n",
    "    public_key = [(private_key[i] + randint(-(q-1)//(2*d), (q-1)//(2*d))) % q for i in range(n)]\n",
    "\n",
    "    return private_key, public_key\n",
    "\n",
    "def sign(private_key, message):\n",
    "    n = len(private_key)\n",
    "    q = max(private_key) + 1\n",
    "    d = ceil(log(q, 2))\n",
    "\n",
    "    # Cálculo do resumo criptográfico da mensagem\n",
    "    hash_value = hash_func(message)\n",
    "\n",
    "    # Geração de vetor de ruído aleatório\n",
    "    noise = [randint(-(q-1)//(2*d), (q-1)//(2*d)) for _ in range(n)]\n",
    "\n",
    "    # Cálculo do vetor de comprometimento\n",
    "    commitment = [(private_key[i] + noise[i]) % q for i in range(n)]\n",
    "\n",
    "    # Cálculo do vetor de resposta\n",
    "    challenge = hash_func(commitment + hash_value)\n",
    "\n",
    "    # Assinatura = (vetor de ruído + vetor de resposta) % q\n",
    "    signature = [(noise[i] + challenge[i]) % q for i in range(n)]\n",
    "\n",
    "    return signature\n",
    "\n",
    "def verify(public_key, message, signature):\n",
    "    n = len(public_key)\n",
    "    q = max(public_key) + 1\n",
    "    d = ceil(log(q, 2))\n",
    "\n",
    "    # Cálculo do resumo criptográfico da mensagem\n",
    "    hash_value = hash_func(message)\n",
    "\n",
    "    # Cálculo do vetor de comprometimento\n",
    "    commitment = [(public_key[i] + signature[i]) % q for i in range(n)]\n",
    "\n",
    "    # Cálculo do vetor de resposta\n",
    "    challenge = hash_func(commitment + hash_value)\n",
    "\n",
    "    # Verificação da assinatura\n",
    "    return challenge == signature\n",
    "\n",
    "# Função de hash (exemplo simplificado, não criptograficamente segura)\n",
    "def hash_func(message):\n",
    "    return [ord(str(c)) for c in str(message)]\n",
    "\n",
    "# Exemplo de uso\n",
    "private_key, public_key = generate_key()\n",
    "message = \"Olá , Mundo \"\n",
    "signature = sign(private_key, message)\n",
    "valid = verify(public_key, message, signature)\n",
    "\n",
    "print(valid, \": A assinatura foi verificada com Sucesso!\")\n"
   ]
  },
  {
   "cell_type": "code",
   "execution_count": null,
   "metadata": {},
   "outputs": [],
   "source": []
  }
 ],
 "metadata": {
  "kernelspec": {
   "display_name": "SageMath 9.3",
   "language": "sage",
   "name": "sagemath"
  },
  "language_info": {
   "codemirror_mode": {
    "name": "ipython",
    "version": 3
   },
   "file_extension": ".py",
   "mimetype": "text/x-python",
   "name": "python",
   "nbconvert_exporter": "python",
   "pygments_lexer": "ipython3",
   "version": "3.7.10"
  }
 },
 "nbformat": 4,
 "nbformat_minor": 4
}
