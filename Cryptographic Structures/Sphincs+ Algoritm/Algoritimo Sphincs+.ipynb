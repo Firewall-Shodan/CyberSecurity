{
 "cells": [
  {
   "cell_type": "code",
   "execution_count": 21,
   "metadata": {},
   "outputs": [
    {
     "name": "stdout",
     "output_type": "stream",
     "text": [
      "True : A assinatura foi verificada com Sucesso!\n"
     ]
    }
   ],
   "source": [
    "import hashlib\n",
    "import random\n",
    "\n",
    "# Parâmetros\n",
    "n = 256  # Tamanho da chave\n",
    "k = 16   # Número de camadas de árvore de Merkle\n",
    "w = 16   # Largura das folhas da árvore de Merkle\n",
    "\n",
    "# Função de hash criptográfica (SHA-256)\n",
    "def hash_func(message):\n",
    "    return hashlib.sha256(message.encode()).digest()\n",
    "\n",
    "# Função de código corretor de erros (concatenação)\n",
    "def error_correction(code):\n",
    "    return code\n",
    "\n",
    "# Gerar chave\n",
    "def generate_key():\n",
    "    secret_key = [random.randint(0, 1) for _ in range(n)]\n",
    "    public_key = [hash_func(str(i)) for i in range(n)]\n",
    "    return secret_key, public_key\n",
    "\n",
    "# Assinar mensagem\n",
    "def sign(secret_key, message):\n",
    "    # Cálculo do código de autenticação (MAC)\n",
    "    mac = hash_func(message)\n",
    "\n",
    "    # Cálculo do código de correção de erro\n",
    "    code = error_correction(mac)\n",
    "\n",
    "    # Criação de assinatura\n",
    "    signature = []\n",
    "    for i in range(k):\n",
    "        signature.append(hash_func(str(i) + str(code)))\n",
    "\n",
    "    return signature\n",
    "\n",
    "# Verificar assinatura\n",
    "def verify(public_key, message, signature):\n",
    "    # Cálculo do código de autenticação (MAC)\n",
    "    mac = hash_func(message)\n",
    "\n",
    "    # Cálculo do código de correção de erro\n",
    "    code = error_correction(mac)\n",
    "\n",
    "    # Verificação da assinatura\n",
    "    for i in range(k):\n",
    "        if signature[i] != hash_func(str(i) + str(code)):\n",
    "            return False\n",
    "\n",
    "    return True\n",
    "\n",
    "# Exemplo de uso\n",
    "secret_key, public_key = generate_key()\n",
    "message = \"Olá , Mundo!\"\n",
    "signature = sign(secret_key, message)\n",
    "valid = verify(public_key, message, signature)\n",
    "\n",
    "print(valid, \": A assinatura foi verificada com Sucesso!\")\n",
    "\n",
    "\n"
   ]
  },
  {
   "cell_type": "code",
   "execution_count": null,
   "metadata": {},
   "outputs": [],
   "source": []
  }
 ],
 "metadata": {
  "kernelspec": {
   "display_name": "SageMath 9.3",
   "language": "sage",
   "name": "sagemath"
  },
  "language_info": {
   "codemirror_mode": {
    "name": "ipython",
    "version": 3
   },
   "file_extension": ".py",
   "mimetype": "text/x-python",
   "name": "python",
   "nbconvert_exporter": "python",
   "pygments_lexer": "ipython3",
   "version": "3.7.10"
  }
 },
 "nbformat": 4,
 "nbformat_minor": 4
}
